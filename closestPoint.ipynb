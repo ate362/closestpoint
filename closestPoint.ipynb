{
 "cells": [
  {
   "cell_type": "code",
   "execution_count": 26,
   "metadata": {},
   "outputs": [],
   "source": [
    "import numpy as np\n",
    "import matplotlib.pyplot as plt\n",
    "from scipy.optimize import minimize_scalar\n",
    "from scipy.interpolate import CubicSpline\n",
    "from scipy.integrate import quad"
   ]
  },
  {
   "cell_type": "code",
   "execution_count": 27,
   "metadata": {},
   "outputs": [],
   "source": [
    "class ParametricCubicSpline:\n",
    "    def __init__(self, t, points, bc_type='natural'):\n",
    "        self.t = t\n",
    "        self.points = points\n",
    "         \n",
    "        self.bc_type = bc_type\n",
    "        self.spline_x = CubicSpline(t, points[:, 0], bc_type=bc_type, extrapolate=None)\n",
    "        self.spline_y = CubicSpline(t, points[:, 1], bc_type=bc_type, extrapolate=None)\n",
    "        \n",
    "        self.coefficients_x = self.spline_x.c\n",
    "        self.coefficients_y = self.spline_y.c\n",
    "\n",
    "    def evaluate(self, t_val):\n",
    "        x_val = self.spline_x(t_val)\n",
    "        y_val = self.spline_y(t_val)\n",
    "        return x_val, y_val\n",
    "    \n",
    "    def arcLength(self):\n",
    "        # Define the derivative of x(t) and y(t)\n",
    "        dx_dt = self.spline_x.derivative()\n",
    "        dy_dt = self.spline_y.derivative()\n",
    "\n",
    "        # Define the integrand for the arc length calculation\n",
    "        integrand = lambda t: np.sqrt(dx_dt(t)**2 + dy_dt(t)**2)\n",
    "\n",
    "        # Calculate the arc length using definite integral\n",
    "        arc_length, _ = quad(integrand, 0, 1)\n",
    "        return arc_length\n",
    "\n",
    "    def objective_function(self, t):\n",
    "        difference_x = self.spline_x(t) - self.target_x\n",
    "        difference_y = self.spline_y(t) - self.target_y\n",
    "        \n",
    "        return np.sqrt(difference_x**2 + difference_y**2)\n",
    "\n",
    "    def calculate_arc_length(self, target_x, target_y):\n",
    "        self.target_x = target_x\n",
    "        self.target_y = target_y\n",
    "\n",
    "        # Minimize the objective function to find the optimal parameter value\n",
    "        result = minimize_scalar(self.objective_function, method='Golden')\n",
    "\n",
    "        # Extract the optimal parameter value\n",
    "        optimal_t = result.x\n",
    "\n",
    "        # Calculate the arc length using definite integral up to the optimal parameter value\n",
    "        arc_length, _ = quad(lambda t: np.sqrt(self.spline_x.derivative()(t)**2 + self.spline_y.derivative()(t)**2), 0, optimal_t)\n",
    "\n",
    "        return arc_length\n",
    "\n",
    "    \n",
    "# Example usage:\n",
    "t_values = np.linspace(0, 1, 4)  # Parameter values\n",
    "control_points = np.array([[0, 0], [1, 3], [2, -1], [3, 2]])  # Control points\n",
    "\n",
    "parametric_spline = ParametricCubicSpline(t_values, control_points)"
   ]
  },
  {
   "cell_type": "code",
   "execution_count": 28,
   "metadata": {},
   "outputs": [
    {
     "name": "stdout",
     "output_type": "stream",
     "text": [
      "Coefficients for segment 0: [7.99360578e-15 0.00000000e+00 0.00000000e+00]\n",
      "Coefficients for segment 1: [-2.66453526e-15 -2.66453526e-15  1.33226763e-15]\n",
      "Coefficients for segment 2: [3. 3. 3.]\n",
      "Coefficients for segment 3: [0. 1. 2.]\n",
      "Coefficients for segment 0: [-63. 126. -63.]\n",
      "Coefficients for segment 1: [  0. -63.  63.]\n",
      "Coefficients for segment 2: [16. -5. -5.]\n",
      "Coefficients for segment 3: [ 0.  3. -1.]\n"
     ]
    }
   ],
   "source": [
    "t_fine = np.linspace(0, 1, 1000)\n",
    "\n",
    "coordinates = np.array([parametric_spline.evaluate(t_val) for t_val in t_fine])\n",
    "\n",
    "for i, coef in enumerate(parametric_spline.coefficients_x):\n",
    "    print(f\"Coefficients for segment {i}: {coef}\")\n",
    "    \n",
    "for i, coef in enumerate(parametric_spline.coefficients_y):\n",
    "    print(f\"Coefficients for segment {i}: {coef}\")"
   ]
  },
  {
   "cell_type": "code",
   "execution_count": 29,
   "metadata": {},
   "outputs": [],
   "source": [
    "from random import randint\n",
    "from sympy import *\n",
    "\n",
    "a1,a2,a3,a4,b1,b2,b3,b4,x,y,s,ss,s1,s2,s3 = symbols('a1 a2 a3 a4 b1 b2 b3 b4 x y s s^* stilde_1 stilde_2 stilde_3')"
   ]
  },
  {
   "cell_type": "code",
   "execution_count": 30,
   "metadata": {},
   "outputs": [],
   "source": [
    "fx = a1*s**3+a2*s**2+a3*s+a4\n",
    "fy = b1*s**3+b2*s**2+b3*s+b4\n",
    "D = (fx-x)**2 + (fy-y)**2\n",
    "\n",
    "D_1 = diff(D,s)\n",
    "D_2 = diff(D_1,s)"
   ]
  },
  {
   "cell_type": "code",
   "execution_count": 31,
   "metadata": {},
   "outputs": [],
   "source": [
    "P = ((s - s2)*(s - s3))/((s1 - s2)*(s1 - s3))*D.subs(s, s1)+((s - s1)*(s - s3))/((s2 - s1)*(s2 - s3))*D.subs(s, s2)+((s - s1)*(s - s2))/((s3 - s1)*(s3 - s2))*D.subs(s, s3)\n",
    "P_1 = diff(P, s)\n",
    "QP = solve(P_1,s)[0]\n"
   ]
  },
  {
   "cell_type": "code",
   "execution_count": 32,
   "metadata": {},
   "outputs": [
    {
     "data": {
      "text/latex": [
       "$\\displaystyle \\frac{\\tilde{s}_{1}^{2} D{\\left(\\tilde{s}_{2} \\right)} - \\tilde{s}_{1}^{2} D{\\left(\\tilde{s}_{3} \\right)} - \\tilde{s}_{2}^{2} D{\\left(\\tilde{s}_{1} \\right)} + \\tilde{s}_{2}^{2} D{\\left(\\tilde{s}_{3} \\right)} + \\tilde{s}_{3}^{2} D{\\left(\\tilde{s}_{1} \\right)} - \\tilde{s}_{3}^{2} D{\\left(\\tilde{s}_{2} \\right)}}{2 \\left(\\tilde{s}_{1} D{\\left(\\tilde{s}_{2} \\right)} - \\tilde{s}_{1} D{\\left(\\tilde{s}_{3} \\right)} - \\tilde{s}_{2} D{\\left(\\tilde{s}_{1} \\right)} + \\tilde{s}_{2} D{\\left(\\tilde{s}_{3} \\right)} + \\tilde{s}_{3} D{\\left(\\tilde{s}_{1} \\right)} - \\tilde{s}_{3} D{\\left(\\tilde{s}_{2} \\right)}\\right)}$"
      ],
      "text/plain": [
       "(stilde_1**2*D(stilde_2) - stilde_1**2*D(stilde_3) - stilde_2**2*D(stilde_1) + stilde_2**2*D(stilde_3) + stilde_3**2*D(stilde_1) - stilde_3**2*D(stilde_2))/(2*(stilde_1*D(stilde_2) - stilde_1*D(stilde_3) - stilde_2*D(stilde_1) + stilde_2*D(stilde_3) + stilde_3*D(stilde_1) - stilde_3*D(stilde_2)))"
      ]
     },
     "execution_count": 32,
     "metadata": {},
     "output_type": "execute_result"
    }
   ],
   "source": [
    "d = Function('D')(s)\n",
    "Ptest = ((s - s2)*(s - s3))/((s1 - s2)*(s1 - s3))*d.subs(s, s1)+((s - s1)*(s - s3))/((s2 - s1)*(s2 - s3))*d.subs(s, s2)+((s - s1)*(s - s2))/((s3 - s1)*(s3 - s2))*d.subs(s, s3)\n",
    "Ptest_1 = diff(Ptest, s)\n",
    "\n",
    "testsol = solve(Ptest_1,s)\n",
    "simplify(testsol[0])"
   ]
  },
  {
   "cell_type": "code",
   "execution_count": 33,
   "metadata": {},
   "outputs": [
    {
     "data": {
      "text/latex": [
       "$\\displaystyle \\left(a_{1} s^{3} + a_{2} s^{2} + a_{3} s + a_{4} - x\\right)^{2} + \\left(b_{1} s^{3} + b_{2} s^{2} + b_{3} s + b_{4} - y\\right)^{2}$"
      ],
      "text/plain": [
       "(a1*s**3 + a2*s**2 + a3*s + a4 - x)**2 + (b1*s**3 + b2*s**2 + b3*s + b4 - y)**2"
      ]
     },
     "execution_count": 33,
     "metadata": {},
     "output_type": "execute_result"
    }
   ],
   "source": [
    "simplify(D)"
   ]
  },
  {
   "cell_type": "code",
   "execution_count": 34,
   "metadata": {},
   "outputs": [
    {
     "data": {
      "text/latex": [
       "$\\displaystyle 2 \\cdot \\left(3 a_{1} s^{2} + 2 a_{2} s + a_{3}\\right) \\left(a_{1} s^{3} + a_{2} s^{2} + a_{3} s + a_{4} - x\\right) + 2 \\cdot \\left(3 b_{1} s^{2} + 2 b_{2} s + b_{3}\\right) \\left(b_{1} s^{3} + b_{2} s^{2} + b_{3} s + b_{4} - y\\right)$"
      ],
      "text/plain": [
       "2*(3*a1*s**2 + 2*a2*s + a3)*(a1*s**3 + a2*s**2 + a3*s + a4 - x) + 2*(3*b1*s**2 + 2*b2*s + b3)*(b1*s**3 + b2*s**2 + b3*s + b4 - y)"
      ]
     },
     "execution_count": 34,
     "metadata": {},
     "output_type": "execute_result"
    }
   ],
   "source": [
    "simplify(D_1)"
   ]
  },
  {
   "cell_type": "code",
   "execution_count": 35,
   "metadata": {},
   "outputs": [
    {
     "data": {
      "text/latex": [
       "$\\displaystyle 4 \\cdot \\left(3 a_{1} s + a_{2}\\right) \\left(a_{1} s^{3} + a_{2} s^{2} + a_{3} s + a_{4} - x\\right) + 4 \\cdot \\left(3 b_{1} s + b_{2}\\right) \\left(b_{1} s^{3} + b_{2} s^{2} + b_{3} s + b_{4} - y\\right) + 2 \\left(3 a_{1} s^{2} + 2 a_{2} s + a_{3}\\right)^{2} + 2 \\left(3 b_{1} s^{2} + 2 b_{2} s + b_{3}\\right)^{2}$"
      ],
      "text/plain": [
       "4*(3*a1*s + a2)*(a1*s**3 + a2*s**2 + a3*s + a4 - x) + 4*(3*b1*s + b2)*(b1*s**3 + b2*s**2 + b3*s + b4 - y) + 2*(3*a1*s**2 + 2*a2*s + a3)**2 + 2*(3*b1*s**2 + 2*b2*s + b3)**2"
      ]
     },
     "execution_count": 35,
     "metadata": {},
     "output_type": "execute_result"
    }
   ],
   "source": [
    "simplify(D_2)"
   ]
  },
  {
   "cell_type": "code",
   "execution_count": 36,
   "metadata": {},
   "outputs": [],
   "source": [
    "def quadratFit(s1, s2, s3, iterationNumber=3):\n",
    "    \n",
    "    for i in range(iterationNumber):\n",
    "        pass\n",
    "    return 0,0"
   ]
  },
  {
   "cell_type": "code",
   "execution_count": 37,
   "metadata": {},
   "outputs": [],
   "source": [
    "def newtonMethod(x0, iterationNumber, coeff_values):\n",
    "    coeff_values['s'] = x0\n",
    "    res = 2\n",
    "    \n",
    "    for i in range(iterationNumber):\n",
    "        x1 = x0 - D_1.subs(coeff_values) / D_2.subs(coeff_values)\n",
    "        coeff_values['s']= x1\n",
    "     \n",
    "        res = np.abs(x1 - x0)\n",
    "        if res <= 0.000001:   # Stop when the result is within the desired tolerance\n",
    "            return x1, res\n",
    "        \n",
    "        x0 = x1\n",
    "    return x0, res\n"
   ]
  },
  {
   "cell_type": "code",
   "execution_count": 38,
   "metadata": {},
   "outputs": [],
   "source": [
    "target_point = np.array([0.5, 2])\n",
    "coeff_values = {a1: 7.99360578e-15, a2: -2.66453526e-15, a3: 3, a4: 0, b1: -63, b2: 0, b3: 16, b4: 0, x: target_point[0], y: target_point[1], s: 0}"
   ]
  },
  {
   "cell_type": "code",
   "execution_count": 39,
   "metadata": {},
   "outputs": [
    {
     "name": "stdout",
     "output_type": "stream",
     "text": [
      "{'Length: 11.025340813425649'} Length to: 5.512670408783198\n",
      "(array(1.5), array(1.))\n"
     ]
    }
   ],
   "source": [
    "L = parametric_spline.arcLength()\n",
    "l = parametric_spline.calculate_arc_length(1.5,1)\n",
    "\n",
    "print({f\"Length: {L}\"}, f\"Length to: {l}\")\n",
    "\n",
    "coord_sol = parametric_spline.evaluate(l/L)\n",
    "print(coord_sol)\n",
    "#quadraticSol, quadraticRes = quadratFit(1,1,1)"
   ]
  },
  {
   "cell_type": "code",
   "execution_count": 40,
   "metadata": {},
   "outputs": [
    {
     "name": "stdout",
     "output_type": "stream",
     "text": [
      "0.136346374491409 7.91138848321715e-8 0.0149096382196098\n"
     ]
    }
   ],
   "source": [
    "newtonSol, newtonRes = newtonMethod(0.2, 100, coeff_values)\n",
    "coeff_values = {a1: 8, a2: -2.66, a3: 3, a4: 0, b1: -63, b2: 0, b3: 16, b4: 0, x: target_point[0], y: target_point[1], s: newtonSol}\n",
    "coord_sol = parametric_spline.evaluate(newtonSol)\n",
    "print(newtonSol, newtonRes, D.subs(coeff_values))"
   ]
  },
  {
   "cell_type": "code",
   "execution_count": 41,
   "metadata": {},
   "outputs": [
    {
     "data": {
      "image/png": "[encoded data removed]",
      "text/plain": [
       "<Figure size 800x600 with 1 Axes>"
      ]
     },
     "metadata": {},
     "output_type": "display_data"
    }
   ],
   "source": [
    "# Plot the original points and the cubic spline\n",
    "plt.figure(figsize=(8, 6))\n",
    "plt.plot(coordinates[:,0], coordinates[:,1], label='Cubic Spline')\n",
    "plt.plot(target_point[0], target_point[1], 'o')\n",
    "plt.scatter(control_points[:, 0], control_points[:, 1], marker='o', color='red')\n",
    "plt.scatter(coord_sol[0], coord_sol[1], marker='o', color='green')\n",
    "\n",
    "plt.title('Parametric Cubic Spline Newton Method')\n",
    "plt.xlabel('X-axis')\n",
    "plt.ylabel('Y-axis')\n",
    "plt.legend()\n",
    "plt.grid(True)\n",
    "plt.show()"
   ]
  }
 ],
 "metadata": {
  "kernelspec": {
   "display_name": "leetcode-dgCV9iu4-py3.10",
   "language": "python",
   "name": "python3"
  },
  "language_info": {
   "codemirror_mode": {
    "name": "ipython",
    "version": 3
   },
   "file_extension": ".py",
   "mimetype": "text/x-python",
   "name": "python",
   "nbconvert_exporter": "python",
   "pygments_lexer": "ipython3",
   "version": "3.11.6"
  }
 },
 "nbformat": 4,
 "nbformat_minor": 2
}
