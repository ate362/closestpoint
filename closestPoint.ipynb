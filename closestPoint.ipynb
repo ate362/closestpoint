{
 "cells": [
  {
   "cell_type": "code",
   "execution_count": 158,
   "metadata": {},
   "outputs": [],
   "source": [
    "import copy\n",
    "import numpy as np\n",
    "import matplotlib.pyplot as plt\n",
    "from scipy.optimize import minimize_scalar\n",
    "from scipy.interpolate import CubicHermiteSpline\n",
    "from scipy.integrate import quad"
   ]
  },
  {
   "cell_type": "code",
   "execution_count": 290,
   "metadata": {},
   "outputs": [],
   "source": [
    "class ParametricCubicSpline:\n",
    "    def __init__(self, x, y, dxdy):\n",
    "        self.x = x\n",
    "        self.y = y\n",
    "        self.spline = CubicHermiteSpline(x, y, dxdy, extrapolate=None)\n",
    "        self.coefficients = self.spline.c\n",
    "\n",
    "    def evaluate(self, t_val):\n",
    "        y_val = self.spline(t_val)\n",
    "        return y_val\n",
    "    \n",
    "    def lengthFunc(self, param):\n",
    "        derivative = self.spline(param, 1)\n",
    "        speed = np.linalg.norm(derivative)\n",
    "        return speed\n",
    "    \n",
    "    def arcLength(self):\n",
    "        # Calculate the arc length using definite integral\n",
    "        arc_length, _ = quad(self.lengthFunc, self.x[0], self.x[-1])\n",
    "        return arc_length\n",
    "\n",
    "    def objective_function(self, t):\n",
    "        difference_x = self.spline(t) - self.target_x\n",
    "        difference_y = self.spline(t) - self.target_y\n",
    "        \n",
    "        return np.sqrt(difference_x**2 + difference_y**2)\n",
    "\n",
    "    def calculate_arc_length(self, target_x, target_y):\n",
    "        self.target_x = target_x\n",
    "        self.target_y = target_y\n",
    "\n",
    "        # Minimize the objective function to find the optimal parameter value\n",
    "        result = minimize_scalar(self.objective_function, method='Golden')\n",
    "\n",
    "        # Extract the optimal parameter value\n",
    "        optimal_t = result.x\n",
    "\n",
    "        # Calculate the arc length using definite integral up to the optimal parameter value\n",
    "        arc_length, _ = quad(self.lengthFunc, 0, optimal_t)\n",
    "\n",
    "        return arc_length\n",
    "\n",
    "    \n",
    "# Example usage:\n",
    "x = np.array([0.0, 5.0]) \n",
    "y = np.array([0.0, 5.0])  # Control points\n",
    "dxdy = np.array([0.0, 4.0])\n",
    "\n",
    "\n",
    "parametric_spline = ParametricCubicSpline(x, y, dxdy)"
   ]
  },
  {
   "cell_type": "code",
   "execution_count": 291,
   "metadata": {},
   "outputs": [
    {
     "name": "stdout",
     "output_type": "stream",
     "text": [
      "Coefficients for segment 0: [0.08]\n",
      "Coefficients for segment 1: [-0.2]\n",
      "Coefficients for segment 2: [0.]\n",
      "Coefficients for segment 3: [0.]\n"
     ]
    }
   ],
   "source": [
    "t_fine = np.linspace(x[0], x[-1], 1000)\n",
    "y_fine = np.array([parametric_spline.evaluate(t_val) for t_val in t_fine])\n",
    "\n",
    "for i, coef in enumerate(parametric_spline.coefficients):\n",
    "    print(f\"Coefficients for segment {i}: {coef}\")\n",
    "    "
   ]
  },
  {
   "cell_type": "code",
   "execution_count": 292,
   "metadata": {},
   "outputs": [],
   "source": [
    "from random import randint\n",
    "from sympy import *\n",
    "\n",
    "a1,a2,a3,a4,x,y,s,ss,s1,s2,s3 = symbols('a1 a2 a3 a4 x y s s^* stilde_1 stilde_2 stilde_3')"
   ]
  },
  {
   "cell_type": "code",
   "execution_count": 293,
   "metadata": {},
   "outputs": [],
   "source": [
    "fx = a1*s**3+a2*s**2+a3*s+a4\n",
    "fy = a1*s**3+a2*s**2+a3*s+a4\n",
    "D = (fx-x)**2 + (fy-y)**2\n",
    "\n",
    "D_1 = diff(D,s)\n",
    "D_2 = diff(D_1,s)"
   ]
  },
  {
   "cell_type": "code",
   "execution_count": 294,
   "metadata": {},
   "outputs": [],
   "source": [
    "P = ((s - s2)*(s - s3))/((s1 - s2)*(s1 - s3))*D.subs(s, s1)+((s - s1)*(s - s3))/((s2 - s1)*(s2 - s3))*D.subs(s, s2)+((s - s1)*(s - s2))/((s3 - s1)*(s3 - s2))*D.subs(s, s3)\n",
    "P_1 = diff(P, s)\n",
    "QP = solve(P_1,s)[0]\n"
   ]
  },
  {
   "cell_type": "code",
   "execution_count": 295,
   "metadata": {},
   "outputs": [
    {
     "data": {
      "text/latex": [
       "$\\displaystyle \\frac{\\tilde{s}_{1}^{2} D{\\left(\\tilde{s}_{2} \\right)} - \\tilde{s}_{1}^{2} D{\\left(\\tilde{s}_{3} \\right)} - \\tilde{s}_{2}^{2} D{\\left(\\tilde{s}_{1} \\right)} + \\tilde{s}_{2}^{2} D{\\left(\\tilde{s}_{3} \\right)} + \\tilde{s}_{3}^{2} D{\\left(\\tilde{s}_{1} \\right)} - \\tilde{s}_{3}^{2} D{\\left(\\tilde{s}_{2} \\right)}}{2 \\left(\\tilde{s}_{1} D{\\left(\\tilde{s}_{2} \\right)} - \\tilde{s}_{1} D{\\left(\\tilde{s}_{3} \\right)} - \\tilde{s}_{2} D{\\left(\\tilde{s}_{1} \\right)} + \\tilde{s}_{2} D{\\left(\\tilde{s}_{3} \\right)} + \\tilde{s}_{3} D{\\left(\\tilde{s}_{1} \\right)} - \\tilde{s}_{3} D{\\left(\\tilde{s}_{2} \\right)}\\right)}$"
      ],
      "text/plain": [
       "(stilde_1**2*D(stilde_2) - stilde_1**2*D(stilde_3) - stilde_2**2*D(stilde_1) + stilde_2**2*D(stilde_3) + stilde_3**2*D(stilde_1) - stilde_3**2*D(stilde_2))/(2*(stilde_1*D(stilde_2) - stilde_1*D(stilde_3) - stilde_2*D(stilde_1) + stilde_2*D(stilde_3) + stilde_3*D(stilde_1) - stilde_3*D(stilde_2)))"
      ]
     },
     "execution_count": 295,
     "metadata": {},
     "output_type": "execute_result"
    }
   ],
   "source": [
    "d = Function('D')(s)\n",
    "Ptest = ((s - s2)*(s - s3))/((s1 - s2)*(s1 - s3))*d.subs(s, s1)+((s - s1)*(s - s3))/((s2 - s1)*(s2 - s3))*d.subs(s, s2)+((s - s1)*(s - s2))/((s3 - s1)*(s3 - s2))*d.subs(s, s3)\n",
    "Ptest_1 = diff(Ptest, s)\n",
    "\n",
    "testsol = solve(Ptest_1,s)\n",
    "simplify(testsol[0])"
   ]
  },
  {
   "cell_type": "code",
   "execution_count": 296,
   "metadata": {},
   "outputs": [
    {
     "data": {
      "text/latex": [
       "$\\displaystyle \\left(a_{1} s^{3} + a_{2} s^{2} + a_{3} s + a_{4} - x\\right)^{2} + \\left(a_{1} s^{3} + a_{2} s^{2} + a_{3} s + a_{4} - y\\right)^{2}$"
      ],
      "text/plain": [
       "(a1*s**3 + a2*s**2 + a3*s + a4 - x)**2 + (a1*s**3 + a2*s**2 + a3*s + a4 - y)**2"
      ]
     },
     "execution_count": 296,
     "metadata": {},
     "output_type": "execute_result"
    }
   ],
   "source": [
    "simplify(D)"
   ]
  },
  {
   "cell_type": "code",
   "execution_count": 297,
   "metadata": {},
   "outputs": [
    {
     "data": {
      "text/latex": [
       "$\\displaystyle 2 \\cdot \\left(3 a_{1} s^{2} + 2 a_{2} s + a_{3}\\right) \\left(2 a_{1} s^{3} + 2 a_{2} s^{2} + 2 a_{3} s + 2 a_{4} - x - y\\right)$"
      ],
      "text/plain": [
       "2*(3*a1*s**2 + 2*a2*s + a3)*(2*a1*s**3 + 2*a2*s**2 + 2*a3*s + 2*a4 - x - y)"
      ]
     },
     "execution_count": 297,
     "metadata": {},
     "output_type": "execute_result"
    }
   ],
   "source": [
    "simplify(D_1)"
   ]
  },
  {
   "cell_type": "code",
   "execution_count": 298,
   "metadata": {},
   "outputs": [
    {
     "data": {
      "text/latex": [
       "$\\displaystyle 4 \\cdot \\left(3 a_{1} s + a_{2}\\right) \\left(a_{1} s^{3} + a_{2} s^{2} + a_{3} s + a_{4} - x\\right) + 4 \\cdot \\left(3 a_{1} s + a_{2}\\right) \\left(a_{1} s^{3} + a_{2} s^{2} + a_{3} s + a_{4} - y\\right) + 4 \\left(3 a_{1} s^{2} + 2 a_{2} s + a_{3}\\right)^{2}$"
      ],
      "text/plain": [
       "4*(3*a1*s + a2)*(a1*s**3 + a2*s**2 + a3*s + a4 - x) + 4*(3*a1*s + a2)*(a1*s**3 + a2*s**2 + a3*s + a4 - y) + 4*(3*a1*s**2 + 2*a2*s + a3)**2"
      ]
     },
     "execution_count": 298,
     "metadata": {},
     "output_type": "execute_result"
    }
   ],
   "source": [
    "simplify(D_2)"
   ]
  },
  {
   "cell_type": "code",
   "execution_count": 299,
   "metadata": {},
   "outputs": [],
   "source": [
    "import bisect\n",
    "\n",
    "def setCoefficients(array, coeff):\n",
    "    coeff['stilde_1'] = array[0]\n",
    "    coeff['stilde_2'] = array[1]\n",
    "    coeff['stilde_3'] = array[2]\n",
    "\n",
    "\n",
    "def insertElement(s_star, array):\n",
    "    index = bisect.bisect_left(array, s_star)\n",
    "    array.insert(index, s_star)\n",
    "\n",
    "def deleteMax(s_star, array, coeff):\n",
    "    insertElement(s_star, array)\n",
    "    _, index, _ = max((P.subs(dict(coeff, s=value)), idx, value) for idx, value in enumerate(array))\n",
    "    array.pop(index)\n",
    "\n",
    "def returnMin(s_star, array, coeff):\n",
    "    insertElement(s_star, array)\n",
    "    _, _, value = min((P.subs(dict(coeff, s=value)), idx, value) for idx, value in enumerate(array))\n",
    "    return value\n",
    "\n",
    "def quadratFit(s1, s2, s3, coeff, iterationNumber=3):\n",
    "    \n",
    "    s_array = [s1, s2, s3]\n",
    "    setCoefficients(s_array, coeff)\n",
    "    \n",
    "    s_star = QP.subs(coeff)\n",
    "    print(s_star)\n",
    "    \n",
    "    deleteMax(s_star, s_array, coeff)\n",
    "    setCoefficients(s_array, coeff)\n",
    "    \n",
    "    s_star = QP.subs(coeff)\n",
    "    print(s_star)\n",
    "\n",
    "    deleteMax(s_star, s_array, coeff)\n",
    "    setCoefficients(s_array, coeff)\n",
    "    \n",
    "    s_star = QP.subs(coeff)\n",
    "    return returnMin(s_star, s_array, coeff)"
   ]
  },
  {
   "cell_type": "code",
   "execution_count": 300,
   "metadata": {},
   "outputs": [],
   "source": [
    "def newtonMethod(x0, iterationNumber, coeff_values, damp):\n",
    "    coeff_values['s'] = x0\n",
    "    res = 2\n",
    "    numberOfIter = 0\n",
    "    \n",
    "    for i in range(iterationNumber):\n",
    "        numberOfIter += 1\n",
    "        x1 = x0 - damp * D_1.subs(coeff_values) / D_2.subs(coeff_values)\n",
    "        coeff_values['s']= x1\n",
    "     \n",
    "        x0 = x1\n",
    "    return x0, numberOfIter\n"
   ]
  },
  {
   "cell_type": "code",
   "execution_count": 301,
   "metadata": {},
   "outputs": [],
   "source": [
    "target_point = np.array([1.5,0.0])\n",
    "QP_coeef_values = {a1: parametric_spline.coefficients[0][0], a2: parametric_spline.coefficients[1][0], a3: parametric_spline.coefficients[2][0], a4: parametric_spline.coefficients[3][0], x: target_point[0], y: target_point[1], s1: 0, s2: 0, s3: 0, s:0}\n",
    "D_coeff_values = {a1: parametric_spline.coefficients[0][0], a2: parametric_spline.coefficients[1][0], a3: parametric_spline.coefficients[2][0], a4: parametric_spline.coefficients[3][0], x: target_point[0], y: target_point[1], s: 0}"
   ]
  },
  {
   "cell_type": "code",
   "execution_count": 302,
   "metadata": {},
   "outputs": [
    {
     "name": "stdout",
     "output_type": "stream",
     "text": [
      "{'Length: 5.3703703703703685'} Length to: 2.2204460287781018e-16\n",
      "1.25000000000000\n",
      "1.25000000000000\n",
      "5\n"
     ]
    }
   ],
   "source": [
    "L = parametric_spline.arcLength()\n",
    "l = parametric_spline.calculate_arc_length(2.5,2.5)\n",
    "\n",
    "print({f\"Length: {L}\"}, f\"Length to: {l}\")\n",
    "quadraticSol = quadratFit(0,2.5,5,QP_coeef_values)\n",
    "print(quadraticSol)"
   ]
  },
  {
   "cell_type": "code",
   "execution_count": 303,
   "metadata": {},
   "outputs": [
    {
     "name": "stdout",
     "output_type": "stream",
     "text": [
      "7 4.76123861802354\n"
     ]
    }
   ],
   "source": [
    "newtonSol, newtonRes = newtonMethod(quadraticSol, 7, D_coeff_values, .1)\n",
    "print(newtonRes, newtonSol)\n",
    "D_coeff_values['s'] = newtonSol\n",
    "coord_sol = parametric_spline.evaluate(newtonSol)"
   ]
  },
  {
   "cell_type": "code",
   "execution_count": 304,
   "metadata": {},
   "outputs": [
    {
     "data": {
      "image/png": "[encoded data removed]",
      "text/plain": [
       "<Figure size 800x600 with 1 Axes>"
      ]
     },
     "metadata": {},
     "output_type": "display_data"
    }
   ],
   "source": [
    "# Plot the original points and the cubic spline\n",
    "plt.figure(figsize=(8, 6))\n",
    "plt.plot(t_fine[:], y_fine[:], label='Cubic Hermite Spline')\n",
    "plt.plot(target_point[0], target_point[1], 'o')\n",
    "plt.scatter(newtonSol, coord_sol, marker='o', color='green')\n",
    "\n",
    "plt.title('Parametric Cubic Spline Newton Method')\n",
    "plt.xlabel('X-axis')\n",
    "plt.ylabel('Y-axis')\n",
    "plt.legend()\n",
    "plt.grid(True)\n",
    "plt.show()"
   ]
  }
 ],
 "metadata": {
  "kernelspec": {
   "display_name": "leetcode-dgCV9iu4-py3.10",
   "language": "python",
   "name": "python3"
  },
  "language_info": {
   "codemirror_mode": {
    "name": "ipython",
    "version": 3
   },
   "file_extension": ".py",
   "mimetype": "text/x-python",
   "name": "python",
   "nbconvert_exporter": "python",
   "pygments_lexer": "ipython3",
   "version": "3.11.7"
  }
 },
 "nbformat": 4,
 "nbformat_minor": 2
}
